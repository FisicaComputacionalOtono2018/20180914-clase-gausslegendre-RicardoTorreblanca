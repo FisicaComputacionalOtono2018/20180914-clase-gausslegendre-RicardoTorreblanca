{
  "nbformat": 4,
  "nbformat_minor": 0,
  "metadata": {
    "colab": {
      "name": "legrange",
      "version": "0.3.2",
      "provenance": [],
      "collapsed_sections": []
    },
    "kernelspec": {
      "name": "python2",
      "display_name": "Python 2"
    }
  },
  "cells": [
    {
      "metadata": {
        "id": "LlOTZ9zQCgD8",
        "colab_type": "code",
        "colab": {}
      },
      "cell_type": "code",
      "source": [
        "\n",
        "def PolinomioLegendre(n,x):\n",
        "  if n==0:\n",
        "     return 0\n",
        "  elif n==1:\n",
        "     return x\n",
        "  elif n==2:\n",
        "    return 0.5*(3*x**2-1)\n",
        "  elif n==3:\n",
        "    return 0.5*(5*x**3*x)\n",
        "n= int(input(\"Dame un numero entero:\"))\n",
        "x= input (\"Dame un numero entre -1 y 1:\")\n",
        "print(PolinomioLegendre(n,x))"
      ],
      "execution_count": 0,
      "outputs": []
    }
  ]
}